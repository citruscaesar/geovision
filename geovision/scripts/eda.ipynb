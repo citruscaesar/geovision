{
 "cells": [
  {
   "cell_type": "code",
   "execution_count": null,
   "metadata": {},
   "outputs": [
    {
     "name": "stdout",
     "output_type": "stream",
     "text": [
      "The autoreload extension is already loaded. To reload it, use:\n",
      "  %reload_ext autoreload\n"
     ]
    }
   ],
   "source": [
    "%load_ext autoreload\n",
    "%load_ext dotenv\n",
    "%autoreload 2\n",
    "%dotenv"
   ]
  },
  {
   "cell_type": "code",
   "execution_count": 2,
   "metadata": {},
   "outputs": [],
   "source": [
    "import torch\n",
    "import logging\n",
    "from lightning import Trainer\n",
    "from geovision.data import ImageDatasetDataModule\n",
    "from geovision.experiment.config import ExperimentConfig\n",
    "from geovision.models.interfaces import ClassificationModule\n",
    "\n",
    "from geovision.io.local import FileSystemIO as fs\n",
    "from geovision.experiment.loggers import (\n",
    "    get_csv_logger, \n",
    "    get_ckpt_logger,\n",
    "    get_classification_logger\n",
    ")"
   ]
  },
  {
   "cell_type": "code",
   "execution_count": 3,
   "metadata": {},
   "outputs": [],
   "source": [
    "config = ExperimentConfig.from_yaml(\"config.yaml\")\n",
    "datamodule = ImageDatasetDataModule(config.dataset_constructor, config.dataset_config, config.dataloader_config)\n",
    "\n",
    "logging.basicConfig(\n",
    "    filename = f\"{fs.get_new_dir(config.experiments_dir, \"logs\")}/logfile.log\",\n",
    "    filemode = \"a\",\n",
    "    format = \"%(asctime)s : %(name)s : %(levelname)s : %(message)s\",\n",
    "    level = logging.INFO\n",
    ")\n",
    "\n",
    "loggers: list = list()\n",
    "loggers.append(csv_logger := get_csv_logger(config))\n",
    "\n",
    "callbacks: list = list()\n",
    "callbacks.append(ckpt_logger := get_ckpt_logger(config))\n",
    "callbacks.append(metrics_logger := get_classification_logger(config))"
   ]
  },
  {
   "cell_type": "code",
   "execution_count": null,
   "metadata": {},
   "outputs": [],
   "source": [
    "config = ExperimentConfig.from_yaml(\"config.yaml\")\n",
    "model = ClassificationModule(\n",
    "    model_config=config.model_config,\n",
    "    criterion_constructor=config.criterion_constructor, \n",
    "    criterion_params=config.criterion_params, \n",
    "    optimizer_constructor=config.optimizer_constructor,\n",
    "    optimizer_params=config.optimizer_params,\n",
    "    lr_scheduler_constructor=config.scheduler_constructor,\n",
    "    lr_scheduler_params=config.scheduler_params,\n",
    "    warmup_scheduler_constructor=config.warmup_scheduler_constructor,\n",
    "    warmup_scheduler_params=config.warmup_scheduler_params,\n",
    "    warmup_steps=config.warmup_steps,\n",
    "    scheduler_config_params=config.scheduler_config_params\n",
    ")\n",
    "trainer = Trainer(logger = loggers, callbacks = callbacks, **config.trainer_params)\n",
    "# trainer.fit(\n",
    "    # model = model, \n",
    "    # datamodule = datamodule, \n",
    "    # ckpt_path = config.ckpt_path \n",
    "# )"
   ]
  },
  {
   "cell_type": "code",
   "execution_count": null,
   "metadata": {},
   "outputs": [],
   "source": [
    "trainer.fit(\n",
    "    model = model, \n",
    "    datamodule = datamodule, \n",
    "    ckpt_path = config.ckpt_path \n",
    ")"
   ]
  }
 ],
 "metadata": {
  "kernelspec": {
   "display_name": "dev",
   "language": "python",
   "name": "python3"
  },
  "language_info": {
   "codemirror_mode": {
    "name": "ipython",
    "version": 3
   },
   "file_extension": ".py",
   "mimetype": "text/x-python",
   "name": "python",
   "nbconvert_exporter": "python",
   "pygments_lexer": "ipython3",
   "version": "3.12.11"
  }
 },
 "nbformat": 4,
 "nbformat_minor": 2
}
