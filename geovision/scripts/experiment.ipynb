{
 "cells": [
  {
   "cell_type": "code",
   "execution_count": 1,
   "metadata": {},
   "outputs": [],
   "source": [
    "%load_ext autoreload\n",
    "%load_ext memory_profiler \n",
    "%load_ext dotenv\n",
    "%autoreload 2\n",
    "%dotenv"
   ]
  },
  {
   "cell_type": "code",
   "execution_count": 2,
   "metadata": {},
   "outputs": [],
   "source": [
    "from lightning import Trainer\n",
    "from torchvision.transforms import v2 as T # type: ignore\n",
    "from geovision.logging import get_logger\n",
    "from geovision.config.basemodels import ExperimentConfig # noqa\n",
    "from geovision.data.module import ImageDatasetDataModule\n",
    "from geovision.io.local import get_ckpt_path, get_experiments_dir\n",
    "from geovision.training.module import ClassificationModule\n",
    "from geovision.training.loggers import (\n",
    "    get_csv_logger, \n",
    "    get_wandb_logger,\n",
    "    get_ckpt_logger,\n",
    "    get_lr_logger,\n",
    "    get_classification_logger\n",
    ")"
   ]
  },
  {
   "cell_type": "code",
   "execution_count": 3,
   "metadata": {},
   "outputs": [],
   "source": [
    "from torch import float32\n",
    "from geovision.data.imagenette import Imagenette\n",
    "\n",
    "logger = get_logger(\"experiment_logger\")\n",
    "transforms: dict[str, T.Transform | None] = {\n",
    "    \"image_transform\": T.Compose([\n",
    "        T.ToImage(), \n",
    "        T.Resize((224, 224), antialias=True), \n",
    "        T.ToDtype(float32, scale = True),\n",
    "        T.Normalize(Imagenette.means, Imagenette.std_devs),\n",
    "    ]),\n",
    "    \"target_transform\": None,\n",
    "    \"common_transform\": None\n",
    "    # \"common_transform\": T.RandomChoice([\n",
    "        # T.RandomHorizontalFlip(0.5),\n",
    "        # T.RandomVerticalFlip(0.5),\n",
    "        # T.RandomInvert(0.5),\n",
    "        # T.RandomAutocontrast(0.5)\n",
    "    # ]),\n",
    "}\n",
    "config = ExperimentConfig.from_yaml(\"config.yaml\", transforms)\n",
    "experiments_dir = get_experiments_dir(config)\n",
    "datamodule = ImageDatasetDataModule(config)\n",
    "\n",
    "loggers: list = list()\n",
    "loggers.append(csv_logger := get_csv_logger(config))\n",
    "#loggers.append(wandb_logger := get_wandb_logger(config))\n",
    "\n",
    "callbacks: list = list()\n",
    "callbacks.append(ckpt_logger := get_ckpt_logger(config))\n",
    "#callbacks.append(metrics_logger := get_classification_logger(config))\n",
    "#callbacks.append(lr_logger := get_lr_logger(config))\n",
    "#callbacks.append(LearningRateFinder(num_training_steps=147, early_stop_threshold=None))"
   ]
  },
  {
   "cell_type": "code",
   "execution_count": 9,
   "metadata": {},
   "outputs": [
    {
     "name": "stderr",
     "output_type": "stream",
     "text": [
      "GPU available: True (cuda), used: True\n",
      "TPU available: False, using: 0 TPU cores\n",
      "IPU available: False, using: 0 IPUs\n",
      "HPU available: False, using: 0 HPUs\n"
     ]
    },
    {
     "data": {
      "text/plain": [
       "\"found ckpts: ['epoch=0_step=147.ckpt', '*epoch=1_step=294.ckpt']\""
      ]
     },
     "metadata": {},
     "output_type": "display_data"
    },
    {
     "name": "stderr",
     "output_type": "stream",
     "text": [
      "/home/sambhav/miniconda3/envs/dev/lib/python3.12/site-packages/lightning/pytorch/callbacks/model_checkpoint.py:653: Checkpoint directory /home/sambhav/experiments/imagenette_classification/testing_plotting/ckpts exists and is not empty.\n",
      "Restoring states from the checkpoint path at /home/sambhav/experiments/imagenette_classification/testing_plotting/ckpts/epoch=1_step=294.ckpt\n",
      "LOCAL_RANK: 0 - CUDA_VISIBLE_DEVICES: [0]\n",
      "Restored all states from the checkpoint at /home/sambhav/experiments/imagenette_classification/testing_plotting/ckpts/epoch=1_step=294.ckpt\n"
     ]
    },
    {
     "data": {
      "application/vnd.jupyter.widget-view+json": {
       "model_id": "05f50f5ca6b244f793568b88cb7a9497",
       "version_major": 2,
       "version_minor": 0
      },
      "text/plain": [
       "Training: |          | 0/? [00:00<?, ?it/s]"
      ]
     },
     "metadata": {},
     "output_type": "display_data"
    },
    {
     "data": {
      "application/vnd.jupyter.widget-view+json": {
       "model_id": "64e637d60e1648c3881bcd6bad1d7422",
       "version_major": 2,
       "version_minor": 0
      },
      "text/plain": [
       "Validation: |          | 0/? [00:00<?, ?it/s]"
      ]
     },
     "metadata": {},
     "output_type": "display_data"
    },
    {
     "data": {
      "application/vnd.jupyter.widget-view+json": {
       "model_id": "11cb39d9846e4a76bbd6c0208799908b",
       "version_major": 2,
       "version_minor": 0
      },
      "text/plain": [
       "Validation: |          | 0/? [00:00<?, ?it/s]"
      ]
     },
     "metadata": {},
     "output_type": "display_data"
    },
    {
     "data": {
      "application/vnd.jupyter.widget-view+json": {
       "model_id": "211b11226ab94960a9de5bcba77b8eea",
       "version_major": 2,
       "version_minor": 0
      },
      "text/plain": [
       "Validation: |          | 0/? [00:00<?, ?it/s]"
      ]
     },
     "metadata": {},
     "output_type": "display_data"
    },
    {
     "data": {
      "application/vnd.jupyter.widget-view+json": {
       "model_id": "0fd13afd43874f51b8a06f925ec253f5",
       "version_major": 2,
       "version_minor": 0
      },
      "text/plain": [
       "Validation: |          | 0/? [00:00<?, ?it/s]"
      ]
     },
     "metadata": {},
     "output_type": "display_data"
    },
    {
     "data": {
      "application/vnd.jupyter.widget-view+json": {
       "model_id": "7f090f71ea2e4c31a0c25e22f9895553",
       "version_major": 2,
       "version_minor": 0
      },
      "text/plain": [
       "Validation: |          | 0/? [00:00<?, ?it/s]"
      ]
     },
     "metadata": {},
     "output_type": "display_data"
    },
    {
     "name": "stderr",
     "output_type": "stream",
     "text": [
      "`Trainer.fit` stopped: `max_epochs=6` reached.\n"
     ]
    }
   ],
   "source": [
    "trainer = Trainer(\n",
    "    max_epochs = 6,\n",
    "    check_val_every_n_epoch = 1,\n",
    "    num_sanity_val_steps = 0,\n",
    "    log_every_n_steps = 1,\n",
    "\n",
    "    logger = loggers,\n",
    "    callbacks = callbacks,\n",
    "    enable_checkpointing = True,\n",
    "    enable_model_summary = False\n",
    ")\n",
    "\n",
    "litmodule = ClassificationModule(ExperimentConfig.from_yaml(\"config.yaml\", transforms))\n",
    "trainer.fit(\n",
    "    model = litmodule,\n",
    "    datamodule = datamodule,\n",
    "    ckpt_path = get_ckpt_path(config)\n",
    ")"
   ]
  },
  {
   "cell_type": "code",
   "execution_count": 10,
   "metadata": {},
   "outputs": [
    {
     "data": {
      "text/html": [
       "<div>\n",
       "<style scoped>\n",
       "    .dataframe tbody tr th:only-of-type {\n",
       "        vertical-align: middle;\n",
       "    }\n",
       "\n",
       "    .dataframe tbody tr th {\n",
       "        vertical-align: top;\n",
       "    }\n",
       "\n",
       "    .dataframe thead th {\n",
       "        text-align: right;\n",
       "    }\n",
       "</style>\n",
       "<table border=\"1\" class=\"dataframe\">\n",
       "  <thead>\n",
       "    <tr style=\"text-align: right;\">\n",
       "      <th></th>\n",
       "      <th>epoch</th>\n",
       "      <th>step</th>\n",
       "      <th>train/f1_epoch</th>\n",
       "      <th>train/loss_epoch</th>\n",
       "      <th>train/loss_step</th>\n",
       "      <th>val/f1_epoch</th>\n",
       "      <th>val/f1_step</th>\n",
       "      <th>val/loss_epoch</th>\n",
       "      <th>val/loss_step</th>\n",
       "    </tr>\n",
       "  </thead>\n",
       "  <tbody>\n",
       "    <tr>\n",
       "      <th>0</th>\n",
       "      <td>0.0</td>\n",
       "      <td>0</td>\n",
       "      <td>NaN</td>\n",
       "      <td>NaN</td>\n",
       "      <td>2.409277</td>\n",
       "      <td>NaN</td>\n",
       "      <td>NaN</td>\n",
       "      <td>NaN</td>\n",
       "      <td>NaN</td>\n",
       "    </tr>\n",
       "    <tr>\n",
       "      <th>1</th>\n",
       "      <td>0.0</td>\n",
       "      <td>1</td>\n",
       "      <td>NaN</td>\n",
       "      <td>NaN</td>\n",
       "      <td>2.554533</td>\n",
       "      <td>NaN</td>\n",
       "      <td>NaN</td>\n",
       "      <td>NaN</td>\n",
       "      <td>NaN</td>\n",
       "    </tr>\n",
       "    <tr>\n",
       "      <th>2</th>\n",
       "      <td>0.0</td>\n",
       "      <td>2</td>\n",
       "      <td>NaN</td>\n",
       "      <td>NaN</td>\n",
       "      <td>2.455010</td>\n",
       "      <td>NaN</td>\n",
       "      <td>NaN</td>\n",
       "      <td>NaN</td>\n",
       "      <td>NaN</td>\n",
       "    </tr>\n",
       "    <tr>\n",
       "      <th>3</th>\n",
       "      <td>0.0</td>\n",
       "      <td>3</td>\n",
       "      <td>NaN</td>\n",
       "      <td>NaN</td>\n",
       "      <td>2.520337</td>\n",
       "      <td>NaN</td>\n",
       "      <td>NaN</td>\n",
       "      <td>NaN</td>\n",
       "      <td>NaN</td>\n",
       "    </tr>\n",
       "    <tr>\n",
       "      <th>4</th>\n",
       "      <td>0.0</td>\n",
       "      <td>4</td>\n",
       "      <td>NaN</td>\n",
       "      <td>NaN</td>\n",
       "      <td>2.621674</td>\n",
       "      <td>NaN</td>\n",
       "      <td>NaN</td>\n",
       "      <td>NaN</td>\n",
       "      <td>NaN</td>\n",
       "    </tr>\n",
       "    <tr>\n",
       "      <th>...</th>\n",
       "      <td>...</td>\n",
       "      <td>...</td>\n",
       "      <td>...</td>\n",
       "      <td>...</td>\n",
       "      <td>...</td>\n",
       "      <td>...</td>\n",
       "      <td>...</td>\n",
       "      <td>...</td>\n",
       "      <td>...</td>\n",
       "    </tr>\n",
       "    <tr>\n",
       "      <th>1017</th>\n",
       "      <td>5.0</td>\n",
       "      <td>82</td>\n",
       "      <td>NaN</td>\n",
       "      <td>NaN</td>\n",
       "      <td>NaN</td>\n",
       "      <td>NaN</td>\n",
       "      <td>0.859375</td>\n",
       "      <td>NaN</td>\n",
       "      <td>0.449243</td>\n",
       "    </tr>\n",
       "    <tr>\n",
       "      <th>1018</th>\n",
       "      <td>5.0</td>\n",
       "      <td>83</td>\n",
       "      <td>NaN</td>\n",
       "      <td>NaN</td>\n",
       "      <td>NaN</td>\n",
       "      <td>NaN</td>\n",
       "      <td>0.890625</td>\n",
       "      <td>NaN</td>\n",
       "      <td>0.443564</td>\n",
       "    </tr>\n",
       "    <tr>\n",
       "      <th>1019</th>\n",
       "      <td>5.0</td>\n",
       "      <td>84</td>\n",
       "      <td>NaN</td>\n",
       "      <td>NaN</td>\n",
       "      <td>NaN</td>\n",
       "      <td>NaN</td>\n",
       "      <td>0.898305</td>\n",
       "      <td>NaN</td>\n",
       "      <td>0.380588</td>\n",
       "    </tr>\n",
       "    <tr>\n",
       "      <th>1020</th>\n",
       "      <td>5.0</td>\n",
       "      <td>881</td>\n",
       "      <td>NaN</td>\n",
       "      <td>NaN</td>\n",
       "      <td>NaN</td>\n",
       "      <td>0.918596</td>\n",
       "      <td>NaN</td>\n",
       "      <td>0.360602</td>\n",
       "      <td>NaN</td>\n",
       "    </tr>\n",
       "    <tr>\n",
       "      <th>1021</th>\n",
       "      <td>5.0</td>\n",
       "      <td>881</td>\n",
       "      <td>0.883532</td>\n",
       "      <td>0.429822</td>\n",
       "      <td>NaN</td>\n",
       "      <td>NaN</td>\n",
       "      <td>NaN</td>\n",
       "      <td>NaN</td>\n",
       "      <td>NaN</td>\n",
       "    </tr>\n",
       "  </tbody>\n",
       "</table>\n",
       "<p>1022 rows × 9 columns</p>\n",
       "</div>"
      ],
      "text/plain": [
       "      epoch  step  train/f1_epoch  train/loss_epoch  train/loss_step  \\\n",
       "0       0.0     0             NaN               NaN         2.409277   \n",
       "1       0.0     1             NaN               NaN         2.554533   \n",
       "2       0.0     2             NaN               NaN         2.455010   \n",
       "3       0.0     3             NaN               NaN         2.520337   \n",
       "4       0.0     4             NaN               NaN         2.621674   \n",
       "...     ...   ...             ...               ...              ...   \n",
       "1017    5.0    82             NaN               NaN              NaN   \n",
       "1018    5.0    83             NaN               NaN              NaN   \n",
       "1019    5.0    84             NaN               NaN              NaN   \n",
       "1020    5.0   881             NaN               NaN              NaN   \n",
       "1021    5.0   881        0.883532          0.429822              NaN   \n",
       "\n",
       "      val/f1_epoch  val/f1_step  val/loss_epoch  val/loss_step  \n",
       "0              NaN          NaN             NaN            NaN  \n",
       "1              NaN          NaN             NaN            NaN  \n",
       "2              NaN          NaN             NaN            NaN  \n",
       "3              NaN          NaN             NaN            NaN  \n",
       "4              NaN          NaN             NaN            NaN  \n",
       "...            ...          ...             ...            ...  \n",
       "1017           NaN     0.859375             NaN       0.449243  \n",
       "1018           NaN     0.890625             NaN       0.443564  \n",
       "1019           NaN     0.898305             NaN       0.380588  \n",
       "1020      0.918596          NaN        0.360602            NaN  \n",
       "1021           NaN          NaN             NaN            NaN  \n",
       "\n",
       "[1022 rows x 9 columns]"
      ]
     },
     "execution_count": 10,
     "metadata": {},
     "output_type": "execute_result"
    }
   ],
   "source": [
    "import pandas as pd\n",
    "import matplotlib.pyplot as plt\n",
    "\n",
    "pd.set_option(\"display.max_rows\", 10)\n",
    "pd.set_option(\"display.max_columns\", None)\n",
    "\n",
    "df = pd.read_csv(experiments_dir / \"metrics.csv\")\n",
    "df[\"epoch\"] = df[\"epoch\"].ffill()\n",
    "#df = df[[\"epoch\", \"step\", \"train/loss_epoch\"]]\n",
    "df"
   ]
  },
  {
   "cell_type": "code",
   "execution_count": 11,
   "metadata": {},
   "outputs": [
    {
     "data": {
      "text/plain": [
       "<matplotlib.legend.Legend at 0x713ce2acda60>"
      ]
     },
     "execution_count": 11,
     "metadata": {},
     "output_type": "execute_result"
    },
    {
     "data": {
      "image/png": "[encoded data removed]",
      "text/plain": [
       "<Figure size 640x480 with 1 Axes>"
      ]
     },
     "metadata": {},
     "output_type": "display_data"
    }
   ],
   "source": [
    "tlsdf = df[[\"step\", \"train/loss_step\"]].dropna(axis=0).reset_index(drop=True)\n",
    "xts, yts = tlsdf[\"step\"], tlsdf[\"train/loss_step\"]\n",
    "plt.plot(xts, yts, label = \"train/loss_step\")\n",
    "\n",
    "tledf = df[[\"step\", \"train/loss_epoch\"]].dropna(axis=0).reset_index(drop=True)\n",
    "xte, yte = tledf[\"step\"], tledf[\"train/loss_epoch\"]\n",
    "plt.plot(xte, yte, label = \"train/loss_epoch\")\n",
    "\n",
    "vledf = df[[\"step\", \"val/loss_epoch\"]].dropna(axis=0).reset_index(drop=True)\n",
    "xve, yve = vledf[\"step\"], vledf[\"val/loss_epoch\"]\n",
    "plt.plot(xve, yve, label = \"val/loss_epoch\")\n",
    "\n",
    "#plt.ylim((0, 6))\n",
    "plt.legend()"
   ]
  },
  {
   "cell_type": "code",
   "execution_count": 12,
   "metadata": {},
   "outputs": [
    {
     "data": {
      "text/plain": [
       "[<matplotlib.lines.Line2D at 0x713ce47a09e0>]"
      ]
     },
     "execution_count": 12,
     "metadata": {},
     "output_type": "execute_result"
    },
    {
     "data": {
      "image/png": "[encoded data removed]",
      "text/plain": [
       "<Figure size 640x480 with 1 Axes>"
      ]
     },
     "metadata": {},
     "output_type": "display_data"
    }
   ],
   "source": [
    "vlsdf = df[[\"epoch\", \"step\", \"val/loss_step\"]].dropna(axis=0).reset_index(drop=True)\n",
    "xvs, yvs = vlsdf[\"step\"], vlsdf[\"val/loss_step\"]\n",
    "plt.plot(xvs, yvs, label = \"val/loss_step\")\n",
    "# pd.set_option(\"display.max_rows\", None)\n",
    "# vlsdf"
   ]
  },
  {
   "cell_type": "code",
   "execution_count": 13,
   "metadata": {},
   "outputs": [
    {
     "data": {
      "text/html": [
       "<div>\n",
       "<style scoped>\n",
       "    .dataframe tbody tr th:only-of-type {\n",
       "        vertical-align: middle;\n",
       "    }\n",
       "\n",
       "    .dataframe tbody tr th {\n",
       "        vertical-align: top;\n",
       "    }\n",
       "\n",
       "    .dataframe thead th {\n",
       "        text-align: right;\n",
       "    }\n",
       "</style>\n",
       "<table border=\"1\" class=\"dataframe\">\n",
       "  <thead>\n",
       "    <tr style=\"text-align: right;\">\n",
       "      <th></th>\n",
       "      <th>epoch</th>\n",
       "      <th>step</th>\n",
       "      <th>val/f1_epoch</th>\n",
       "    </tr>\n",
       "  </thead>\n",
       "  <tbody>\n",
       "    <tr>\n",
       "      <th>0</th>\n",
       "      <td>0.0</td>\n",
       "      <td>146</td>\n",
       "      <td>0.666169</td>\n",
       "    </tr>\n",
       "    <tr>\n",
       "      <th>1</th>\n",
       "      <td>1.0</td>\n",
       "      <td>293</td>\n",
       "      <td>0.848394</td>\n",
       "    </tr>\n",
       "    <tr>\n",
       "      <th>2</th>\n",
       "      <td>1.0</td>\n",
       "      <td>293</td>\n",
       "      <td>0.921875</td>\n",
       "    </tr>\n",
       "    <tr>\n",
       "      <th>3</th>\n",
       "      <td>2.0</td>\n",
       "      <td>440</td>\n",
       "      <td>0.884989</td>\n",
       "    </tr>\n",
       "    <tr>\n",
       "      <th>4</th>\n",
       "      <td>3.0</td>\n",
       "      <td>587</td>\n",
       "      <td>0.905153</td>\n",
       "    </tr>\n",
       "    <tr>\n",
       "      <th>5</th>\n",
       "      <td>4.0</td>\n",
       "      <td>734</td>\n",
       "      <td>0.914115</td>\n",
       "    </tr>\n",
       "    <tr>\n",
       "      <th>6</th>\n",
       "      <td>5.0</td>\n",
       "      <td>881</td>\n",
       "      <td>0.918596</td>\n",
       "    </tr>\n",
       "  </tbody>\n",
       "</table>\n",
       "</div>"
      ],
      "text/plain": [
       "   epoch  step  val/f1_epoch\n",
       "0    0.0   146      0.666169\n",
       "1    1.0   293      0.848394\n",
       "2    1.0   293      0.921875\n",
       "3    2.0   440      0.884989\n",
       "4    3.0   587      0.905153\n",
       "5    4.0   734      0.914115\n",
       "6    5.0   881      0.918596"
      ]
     },
     "metadata": {},
     "output_type": "display_data"
    },
    {
     "data": {
      "text/html": [
       "<div>\n",
       "<style scoped>\n",
       "    .dataframe tbody tr th:only-of-type {\n",
       "        vertical-align: middle;\n",
       "    }\n",
       "\n",
       "    .dataframe tbody tr th {\n",
       "        vertical-align: top;\n",
       "    }\n",
       "\n",
       "    .dataframe thead th {\n",
       "        text-align: right;\n",
       "    }\n",
       "</style>\n",
       "<table border=\"1\" class=\"dataframe\">\n",
       "  <thead>\n",
       "    <tr style=\"text-align: right;\">\n",
       "      <th></th>\n",
       "      <th>epoch</th>\n",
       "      <th>step</th>\n",
       "      <th>train/f1_epoch</th>\n",
       "    </tr>\n",
       "  </thead>\n",
       "  <tbody>\n",
       "    <tr>\n",
       "      <th>0</th>\n",
       "      <td>0.0</td>\n",
       "      <td>146</td>\n",
       "      <td>0.352816</td>\n",
       "    </tr>\n",
       "    <tr>\n",
       "      <th>1</th>\n",
       "      <td>1.0</td>\n",
       "      <td>293</td>\n",
       "      <td>0.726962</td>\n",
       "    </tr>\n",
       "    <tr>\n",
       "      <th>2</th>\n",
       "      <td>2.0</td>\n",
       "      <td>440</td>\n",
       "      <td>0.819966</td>\n",
       "    </tr>\n",
       "    <tr>\n",
       "      <th>3</th>\n",
       "      <td>3.0</td>\n",
       "      <td>587</td>\n",
       "      <td>0.857082</td>\n",
       "    </tr>\n",
       "    <tr>\n",
       "      <th>4</th>\n",
       "      <td>4.0</td>\n",
       "      <td>734</td>\n",
       "      <td>0.870627</td>\n",
       "    </tr>\n",
       "    <tr>\n",
       "      <th>5</th>\n",
       "      <td>5.0</td>\n",
       "      <td>881</td>\n",
       "      <td>0.883532</td>\n",
       "    </tr>\n",
       "  </tbody>\n",
       "</table>\n",
       "</div>"
      ],
      "text/plain": [
       "   epoch  step  train/f1_epoch\n",
       "0    0.0   146        0.352816\n",
       "1    1.0   293        0.726962\n",
       "2    2.0   440        0.819966\n",
       "3    3.0   587        0.857082\n",
       "4    4.0   734        0.870627\n",
       "5    5.0   881        0.883532"
      ]
     },
     "metadata": {},
     "output_type": "display_data"
    }
   ],
   "source": [
    "vmedf = df[[\"epoch\", \"step\", f\"val/{config.metric}_epoch\"]].dropna(axis=0).reset_index(drop=True)\n",
    "xve, yve = vmedf[\"step\"], vmedf[\"epoch\"]\n",
    "\n",
    "tmedf = df[[\"epoch\", \"step\", f\"train/{config.metric}_epoch\"]].dropna(axis=0).reset_index(drop=True)\n",
    "xte, yte = tmedf[\"step\"], tmedf[\"epoch\"]\n",
    "\n",
    "#plt.plot(xve, yve, label = \"val/iou\")\n",
    "#plt.plot(xte, yte, label = \"train/iou\")\n",
    "display(vmedf)\n",
    "display(tmedf)"
   ]
  }
 ],
 "metadata": {
  "kernelspec": {
   "display_name": "dev",
   "language": "python",
   "name": "python3"
  },
  "language_info": {
   "codemirror_mode": {
    "name": "ipython",
    "version": 3
   },
   "file_extension": ".py",
   "mimetype": "text/x-python",
   "name": "python",
   "nbconvert_exporter": "python",
   "pygments_lexer": "ipython3",
   "version": "3.12.2"
  }
 },
 "nbformat": 4,
 "nbformat_minor": 2
}
