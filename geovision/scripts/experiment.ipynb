{
 "cells": [
  {
   "cell_type": "code",
   "execution_count": 1,
   "metadata": {},
   "outputs": [],
   "source": [
    "%load_ext autoreload\n",
    "%load_ext memory_profiler \n",
    "%load_ext dotenv\n",
    "%autoreload 2\n",
    "%dotenv"
   ]
  },
  {
   "cell_type": "code",
   "execution_count": 2,
   "metadata": {},
   "outputs": [],
   "source": [
    "from lightning import Trainer\n",
    "from torchvision.transforms import v2 as T # type: ignore\n",
    "from geovision.logging import get_logger\n",
    "from geovision.config.basemodels import ExperimentConfig # noqa\n",
    "from geovision.data.module import ImageDatasetDataModule\n",
    "from geovision.training.module import ClassificationModule\n",
    "from geovision.training.loggers import get_csv_logger, get_wandb_logger, get_ckpt_logger, get_classification_logger"
   ]
  },
  {
   "cell_type": "code",
   "execution_count": 3,
   "metadata": {},
   "outputs": [],
   "source": [
    "logger = get_logger(\"experiment_logger\")\n",
    "transforms: dict[str, T.Transform | None] = {\n",
    "    \"image_transform\": None,\n",
    "    \"target_transform\": None,\n",
    "    \"common_transform\": None,\n",
    "}\n",
    "config = ExperimentConfig.from_yaml(\"config.yaml\", transforms)\n",
    "datamodule = ImageDatasetDataModule(config)"
   ]
  },
  {
   "cell_type": "code",
   "execution_count": 6,
   "metadata": {},
   "outputs": [
    {
     "name": "stderr",
     "output_type": "stream",
     "text": [
      "GPU available: True (cuda), used: True\n",
      "TPU available: False, using: 0 TPU cores\n",
      "IPU available: False, using: 0 IPUs\n",
      "HPU available: False, using: 0 HPUs\n",
      "/home/sambhav/miniconda3/envs/dev/lib/python3.12/site-packages/lightning/fabric/loggers/csv_logs.py:268: Experiment logs directory /home/sambhav/experiments/imagenette_classification/can_imagenette_work_with_grace exists and is not empty. Previous log files in this directory will be deleted when the new ones are saved!\n",
      "/home/sambhav/miniconda3/envs/dev/lib/python3.12/site-packages/lightning/pytorch/callbacks/model_checkpoint.py:653: Checkpoint directory /home/sambhav/experiments/imagenette_classification/can_imagenette_work_with_grace/ckpts exists and is not empty.\n",
      "LOCAL_RANK: 0 - CUDA_VISIBLE_DEVICES: [0]\n",
      "\n",
      "  | Name                  | Type                      | Params\n",
      "--------------------------------------------------------------------\n",
      "0 | model                 | AlexNet                   | 57.0 M\n",
      "1 | criterion             | CrossEntropyLoss          | 0     \n",
      "2 | train_metrics         | MetricCollection          | 0     \n",
      "3 | val_metrics           | MetricCollection          | 0     \n",
      "4 | test_metrics          | MetricCollection          | 0     \n",
      "5 | val_confusion_matrix  | MulticlassConfusionMatrix | 0     \n",
      "6 | test_confusion_matrix | MulticlassConfusionMatrix | 0     \n",
      "--------------------------------------------------------------------\n",
      "57.0 M    Trainable params\n",
      "0         Non-trainable params\n",
      "57.0 M    Total params\n",
      "228.179   Total estimated model params size (MB)\n"
     ]
    },
    {
     "data": {
      "application/vnd.jupyter.widget-view+json": {
       "model_id": "14d8dc9d8d124e73b3f81b6a2f2202b4",
       "version_major": 2,
       "version_minor": 0
      },
      "text/plain": [
       "Training: |          | 0/? [00:00<?, ?it/s]"
      ]
     },
     "metadata": {},
     "output_type": "display_data"
    },
    {
     "data": {
      "application/vnd.jupyter.widget-view+json": {
       "model_id": "49a8bc46311440c99d020ab55315860f",
       "version_major": 2,
       "version_minor": 0
      },
      "text/plain": [
       "Validation: |          | 0/? [00:00<?, ?it/s]"
      ]
     },
     "metadata": {},
     "output_type": "display_data"
    },
    {
     "name": "stdout",
     "output_type": "stream",
     "text": [
      "batch #0\n",
      "batch #1\n",
      "batch #2\n",
      "batch #3\n",
      "batch #4\n",
      "batch #5\n",
      "batch #6\n",
      "batch #7\n",
      "batch #8\n",
      "batch #9\n",
      "batch #10\n",
      "batch #11\n",
      "batch #12\n",
      "batch #13\n",
      "batch #14\n",
      "batch #15\n",
      "batch #16\n",
      "batch #17\n",
      "batch #18\n",
      "batch #19\n",
      "batch #20\n",
      "output file /home/sambhav/experiments/imagenette_classification/can_imagenette_work_with_grace/val_logs/epoch=0_step=147_logits.h5, final idx 1339\n",
      "tensor([[129,   1,   0,   1,   0,   2,   0,   0,   0,   2],\n",
      "        [  2, 124,   0,   2,   2,   1,   0,   0,   1,   3],\n",
      "        [  1,   0, 119,   1,   0,   2,   2,   8,   0,   2],\n",
      "        [ 10,   2,   2,  86,   2,   2,   9,   6,   0,   5],\n",
      "        [  1,   0,   2,   1, 121,   3,   3,   2,   0,   2],\n",
      "        [  6,   1,   4,   1,   2, 116,   2,   2,   0,   1],\n",
      "        [  0,   1,   4,   4,   2,   0, 117,   7,   0,   0],\n",
      "        [  0,   1,  11,   6,   6,   1,   9, 101,   0,   0],\n",
      "        [  5,   0,   1,   1,   2,   3,   2,   3, 116,   2],\n",
      "        [  1,   2,   0,   6,   3,   0,   2,   2,   0, 119]], device='cuda:0')\n"
     ]
    },
    {
     "name": "stderr",
     "output_type": "stream",
     "text": [
      "`Trainer.fit` stopped: `max_epochs=1` reached.\n"
     ]
    }
   ],
   "source": [
    "litmodule = ClassificationModule(ExperimentConfig.from_yaml(\"config.yaml\", transforms))\n",
    "\n",
    "loggers: list = list()\n",
    "callbacks: list = list()\n",
    "callbacks.append(get_classification_logger(config))\n",
    "loggers.append(csv_logger := get_csv_logger(config))\n",
    "# loggers.append(wandb_logger := get_wandb_logger(config))\n",
    "callbacks.append(ckpt_logger := get_ckpt_logger(config))\n",
    "\n",
    "# wandb_logger.watch(litmodule)\n",
    "trainer = Trainer(\n",
    "    logger = loggers,\n",
    "    callbacks = callbacks,\n",
    "    max_epochs = 1,\n",
    "    check_val_every_n_epoch = 1,\n",
    "    num_sanity_val_steps=0,\n",
    "    #limit_val_batches=1\n",
    ")\n",
    "\n",
    "trainer.fit(\n",
    "    model = litmodule,\n",
    "    datamodule = datamodule\n",
    ")"
   ]
  },
  {
   "cell_type": "code",
   "execution_count": 1,
   "metadata": {},
   "outputs": [
    {
     "ename": "NameError",
     "evalue": "name 'config' is not defined",
     "output_type": "error",
     "traceback": [
      "\u001b[0;31m---------------------------------------------------------------------------\u001b[0m",
      "\u001b[0;31mNameError\u001b[0m                                 Traceback (most recent call last)",
      "Cell \u001b[0;32mIn[1], line 9\u001b[0m\n\u001b[1;32m      5\u001b[0m \u001b[38;5;28;01mimport\u001b[39;00m \u001b[38;5;21;01mnumpy\u001b[39;00m \u001b[38;5;28;01mas\u001b[39;00m \u001b[38;5;21;01mnp\u001b[39;00m\n\u001b[1;32m      6\u001b[0m \u001b[38;5;28;01mimport\u001b[39;00m \u001b[38;5;21;01mpandas\u001b[39;00m \u001b[38;5;28;01mas\u001b[39;00m \u001b[38;5;21;01mpd\u001b[39;00m\n\u001b[0;32m----> 9\u001b[0m logs_dir \u001b[38;5;241m=\u001b[39m Path\u001b[38;5;241m.\u001b[39mhome()\u001b[38;5;241m/\u001b[39m\u001b[38;5;124m\"\u001b[39m\u001b[38;5;124mexperiments\u001b[39m\u001b[38;5;124m\"\u001b[39m\u001b[38;5;241m/\u001b[39m\u001b[38;5;124m\"\u001b[39m\u001b[38;5;124mimagenette_classification\u001b[39m\u001b[38;5;124m\"\u001b[39m\u001b[38;5;241m/\u001b[39m\u001b[38;5;124m'\u001b[39m\u001b[38;5;124m_\u001b[39m\u001b[38;5;124m'\u001b[39m\u001b[38;5;241m.\u001b[39mjoin(\u001b[43mconfig\u001b[49m\u001b[38;5;241m.\u001b[39mname\u001b[38;5;241m.\u001b[39msplit(\u001b[38;5;124m'\u001b[39m\u001b[38;5;124m \u001b[39m\u001b[38;5;124m'\u001b[39m))\u001b[38;5;241m/\u001b[39m\u001b[38;5;124m\"\u001b[39m\u001b[38;5;124mval_logs\u001b[39m\u001b[38;5;124m\"\u001b[39m\n\u001b[1;32m     10\u001b[0m logits_file \u001b[38;5;241m=\u001b[39m \u001b[38;5;28msorted\u001b[39m(logs_dir\u001b[38;5;241m.\u001b[39mrglob(\u001b[38;5;124m\"\u001b[39m\u001b[38;5;124m*.h5\u001b[39m\u001b[38;5;124m\"\u001b[39m))[\u001b[38;5;241m-\u001b[39m\u001b[38;5;241m1\u001b[39m]\n\u001b[1;32m     11\u001b[0m display(logits_file)\n",
      "\u001b[0;31mNameError\u001b[0m: name 'config' is not defined"
     ]
    }
   ],
   "source": [
    "from pathlib import Path\n",
    "import h5py\n",
    "import torch\n",
    "import torchmetrics\n",
    "import numpy as np\n",
    "import pandas as pd\n",
    "\n",
    "\n",
    "logs_dir = Path.home()/\"experiments\"/\"imagenette_classification\"/'_'.join(config.name.split(' '))/\"val_logs\"\n",
    "logits_file = sorted(logs_dir.rglob(\"*.h5\"))[-1]\n",
    "display(logits_file)\n",
    "with h5py.File(logits_file) as f:\n",
    "    logits = torch.tensor(f[\"logits\"][:])\n",
    "    labels = torch.tensor(f[\"labels\"][:])\n",
    "    df_idxs = f[\"df_idxs\"][:]\n",
    "\n",
    "# torchmetrics.functional.confusion_matrix(logits, labels, \"multiclass\", num_classes=10)\n",
    "# pd.Series(logits.argmax(1).tolist()).value_counts()\n",
    "def get_confusion_matrix(logits, labels):\n",
    "    num_classes = logits.shape[1] \n",
    "    confm = np.zeros((num_classes, num_classes), dtype = np.uint64)\n",
    "    for i in range(len(logits)):\n",
    "        pred_idx = np.argmax(logits[i])\n",
    "        true_idx = labels[i]\n",
    "        confm[true_idx, pred_idx] += 1\n",
    "    display(confm)\n",
    "\n",
    "get_confusion_matrix(logits, labels)"
   ]
  },
  {
   "cell_type": "code",
   "execution_count": 17,
   "metadata": {},
   "outputs": [
    {
     "name": "stdout",
     "output_type": "stream",
     "text": [
      "tensor([0.6044, 0.8164, 0.6411, 0.3940, 0.4034]) tensor(2.8593)\n"
     ]
    },
    {
     "data": {
      "text/plain": [
       "tensor(0.6991)"
      ]
     },
     "execution_count": 17,
     "metadata": {},
     "output_type": "execute_result"
    }
   ],
   "source": [
    "# multilabel classification output\n",
    "logits = torch.randn(5, dtype = torch.float32)\n",
    "probs = torch.sigmoid(logits)\n",
    "truth = torch.tensor([0, 1, 0, 1, 0], dtype = torch.float32)\n",
    "\n",
    "print(probs, probs.sum())\n",
    "print(truth, truth.sum())\n",
    "\n",
    "torch.nn.BCEWithLogitsLoss()(truth, probs)"
   ]
  },
  {
   "cell_type": "code",
   "execution_count": null,
   "metadata": {},
   "outputs": [],
   "source": []
  }
 ],
 "metadata": {
  "kernelspec": {
   "display_name": "dev",
   "language": "python",
   "name": "python3"
  },
  "language_info": {
   "codemirror_mode": {
    "name": "ipython",
    "version": 3
   },
   "file_extension": ".py",
   "mimetype": "text/x-python",
   "name": "python",
   "nbconvert_exporter": "python",
   "pygments_lexer": "ipython3",
   "version": "3.12.3"
  }
 },
 "nbformat": 4,
 "nbformat_minor": 2
}
