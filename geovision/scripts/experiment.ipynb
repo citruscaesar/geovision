{
 "cells": [
  {
   "cell_type": "code",
   "execution_count": 1,
   "metadata": {},
   "outputs": [],
   "source": [
    "%load_ext autoreload\n",
    "%load_ext memory_profiler \n",
    "%autoreload 2"
   ]
  },
  {
   "cell_type": "code",
   "execution_count": 2,
   "metadata": {},
   "outputs": [],
   "source": [
    "from torchvision.transforms import v2 as T # type: ignore\n",
    "from torchvision.models import resnet18, ResNet18_Weights\n",
    "from geovision.config.basemodels import ExperimentConfig # noqa\n",
    "from geovision.data.module import ImageDatasetDataModule\n",
    "from geovision.training.module import ClassificationModule\n",
    "\n",
    "transforms: dict[str, T.Transform | None] = {\n",
    "    \"image_transform\": None,\n",
    "    \"target_transform\": None,\n",
    "    \"common_transform\": None,\n",
    "}\n",
    "\n",
    "config = ExperimentConfig.from_config_file(\"config.yaml\", transforms)\n",
    "datamodule = ImageDatasetDataModule(config)\n",
    "classifier = ClassificationModule(\n",
    "    config = config, \n",
    "    model = resnet18(num_classes = config.dataset.num_classes)\n",
    ")\n",
    "# datamodule.setup(\"validate\")\n",
    "# ds = datamodule.val_dataset\n",
    "# dl = datamodule.val_dataloader()"
   ]
  },
  {
   "cell_type": "code",
   "execution_count": 8,
   "metadata": {},
   "outputs": [
    {
     "data": {
      "text/plain": [
       "BCEWithLogitsLoss()"
      ]
     },
     "execution_count": 8,
     "metadata": {},
     "output_type": "execute_result"
    }
   ],
   "source": [
    "config.criterion(**config.criterion_params)"
   ]
  },
  {
   "cell_type": "code",
   "execution_count": null,
   "metadata": {},
   "outputs": [],
   "source": [
    "# from geovision.data.dataset import Validator\n",
    "# %mprun -f Validator.test_dataset Validator.test_dataset(config)"
   ]
  },
  {
   "cell_type": "code",
   "execution_count": null,
   "metadata": {},
   "outputs": [],
   "source": [
    "# from geovision.data.module import test_datamodule\n",
    "# test_datamodule(datamodule)"
   ]
  }
 ],
 "metadata": {
  "kernelspec": {
   "display_name": "dev",
   "language": "python",
   "name": "python3"
  },
  "language_info": {
   "codemirror_mode": {
    "name": "ipython",
    "version": 3
   },
   "file_extension": ".py",
   "mimetype": "text/x-python",
   "name": "python",
   "nbconvert_exporter": "python",
   "pygments_lexer": "ipython3",
   "version": "3.12.3"
  }
 },
 "nbformat": 4,
 "nbformat_minor": 2
}
