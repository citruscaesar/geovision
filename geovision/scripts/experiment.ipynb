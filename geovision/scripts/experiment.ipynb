{
 "cells": [
  {
   "cell_type": "code",
   "execution_count": null,
   "metadata": {},
   "outputs": [],
   "source": [
    "%load_ext autoreload\n",
    "%load_ext memory_profiler \n",
    "%load_ext dotenv\n",
    "%autoreload 2\n",
    "%dotenv"
   ]
  },
  {
   "cell_type": "code",
   "execution_count": null,
   "metadata": {},
   "outputs": [],
   "source": [
    "from lightning import Trainer\n",
    "from torchvision.transforms import v2 as T # type: ignore\n",
    "from geovision.logging import get_logger\n",
    "from geovision.config.basemodels import ExperimentConfig # noqa\n",
    "from geovision.data.module import ImageDatasetDataModule\n",
    "from geovision.io.local import get_ckpt_path, get_experiments_dir\n",
    "from geovision.training.module import ClassificationModule\n",
    "from geovision.training.loggers import (\n",
    "    get_csv_logger, \n",
    "    get_wandb_logger,\n",
    "    get_ckpt_logger,\n",
    "    get_lr_logger,\n",
    "    get_classification_logger\n",
    ")"
   ]
  },
  {
   "cell_type": "code",
   "execution_count": null,
   "metadata": {},
   "outputs": [],
   "source": [
    "from torch import float32\n",
    "from geovision.data.imagenette import Imagenette\n",
    "\n",
    "logger = get_logger(\"experiment_logger\")\n",
    "transforms: dict[str, T.Transform | None] = {\n",
    "    \"image_transform\": T.Compose([T.ToImage(), T.ToDtype(float32), T.Normalize(Imagenette.means, Imagenette.std_devs), T.RandomResizedCrop(224, antialias=True)]),\n",
    "    \"target_transform\": None,\n",
    "    \"common_transform\": T.RandomHorizontalFlip(),\n",
    "}\n",
    "config = ExperimentConfig.from_yaml(\"config.yaml\", transforms)\n",
    "datamodule = ImageDatasetDataModule(config)\n",
    "\n",
    "loggers: list = list()\n",
    "loggers.append(csv_logger := get_csv_logger(config))\n",
    "#loggers.append(wandb_logger := get_wandb_logger(config))\n",
    "\n",
    "callbacks: list = list()\n",
    "#callbacks.append(metrics_logger := get_classification_logger(config))\n",
    "#callbacks.append(lr_logger := get_lr_logger(config))\n",
    "callbacks.append(ckpt_logger := get_ckpt_logger(config))"
   ]
  },
  {
   "cell_type": "code",
   "execution_count": null,
   "metadata": {},
   "outputs": [],
   "source": [
    "\n",
    "trainer = Trainer(\n",
    "    logger = loggers,\n",
    "    callbacks = callbacks,\n",
    "    max_epochs = 6,\n",
    "    check_val_every_n_epoch = 1,\n",
    "    num_sanity_val_steps = 0,\n",
    "    log_every_n_steps = 1 \n",
    "    #limit_train_batches=50\n",
    "    #limit_val_batches=1\n",
    ")\n",
    "\n"
   ]
  },
  {
   "cell_type": "code",
   "execution_count": null,
   "metadata": {},
   "outputs": [],
   "source": [
    "# litmodule = ClassificationModule(ExperimentConfig.from_yaml(\"config.yaml\", transforms))\n",
    "# wandb_logger.watch(litmodule)\n",
    "trainer.fit(\n",
    "    model = ClassificationModule(ExperimentConfig.from_yaml(\"config.yaml\", transforms)),\n",
    "    datamodule = datamodule,\n",
    "    ckpt_path = sorted(get_experiments_dir(config).rglob(\"*.ckpt\"))[-1]\n",
    ")"
   ]
  },
  {
   "cell_type": "code",
   "execution_count": null,
   "metadata": {},
   "outputs": [],
   "source": [
    "import pandas as pd\n",
    "import matplotlib.pyplot as plt\n",
    "pd.set_option(\"display.max_rows\", 10)\n",
    "pd.set_option(\"display.max_columns\", None)\n",
    "\n",
    "df = pd.read_csv(csv_logger.log_dir + \"/metrics.csv\")\n",
    "df[\"epoch\"] = df[\"epoch\"].ffill()\n",
    "#df = df[[\"epoch\", \"step\", \"train/loss_epoch\"]]\n",
    "df"
   ]
  },
  {
   "cell_type": "code",
   "execution_count": null,
   "metadata": {},
   "outputs": [],
   "source": [
    "tlsdf = df[[\"step\", \"train/loss_step\"]].dropna(axis=0).reset_index(drop=True)\n",
    "xts, yts = tlsdf[\"step\"], tlsdf[\"train/loss_step\"]\n",
    "plt.plot(xts, yts)\n",
    "\n",
    "tledf = df[[\"step\", \"train/loss_epoch\"]].dropna(axis=0).reset_index(drop=True)\n",
    "xte, yte = tledf[\"step\"], tledf[\"train/loss_epoch\"]\n",
    "plt.plot(xte, yte)\n",
    "\n",
    "vledf = df[[\"step\", \"val/loss_epoch\"]].dropna(axis=0).reset_index(drop=True)\n",
    "xve, yve = vledf[\"step\"], vledf[\"val/loss_epoch\"]\n",
    "plt.plot(xve, yve)\n",
    "\n",
    "vlsdf = df[[\"epoch\", \"step\", \"val/loss_step\"]].dropna(axis=0).reset_index(drop=True)\n",
    "xvs, yvs = vlsdf[\"step\"], vlsdf[\"val/loss_step\"]\n",
    "plt.plot(xvs, yvs)\n"
   ]
  },
  {
   "cell_type": "code",
   "execution_count": null,
   "metadata": {},
   "outputs": [],
   "source": [
    "vmedf = df[[\"epoch\", \"step\", f\"val/{config.metric}_epoch\"]].dropna(axis=0).reset_index(drop=True)\n",
    "vmedf"
   ]
  }
 ],
 "metadata": {
  "kernelspec": {
   "display_name": "dev",
   "language": "python",
   "name": "python3"
  },
  "language_info": {
   "codemirror_mode": {
    "name": "ipython",
    "version": 3
   },
   "file_extension": ".py",
   "mimetype": "text/x-python",
   "name": "python",
   "nbconvert_exporter": "python",
   "pygments_lexer": "ipython3",
   "version": "3.12.3"
  }
 },
 "nbformat": 4,
 "nbformat_minor": 2
}
