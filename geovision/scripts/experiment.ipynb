{
 "cells": [
  {
   "cell_type": "code",
   "execution_count": null,
   "metadata": {},
   "outputs": [],
   "source": [
    "#    [x] add fn to plot metrics from the experiment logger, with interactive buttons to choose runs\n",
    "#    [] add fn to stream metrics.csv over ssh\n",
    "# 5. [] Refactor and document geovision.io.local, add SSH and S3 handlers to geovision.io.remote\n",
    "# 6. [] add LR logging (train_lr_epoch), read lighting lr logger callback\n",
    "\n",
    "# Datasets\n",
    "# 1. [x] Fix Imagenet, like errors when loading images. add the default ilsvrc-2012 train/val split\n",
    "# 2. Add FMOW \n",
    "# 3. Add Pascal VOC / MS COCO / OxfordIIITPets\n",
    "# 4. [x] Figure out how to do transformations properly, with preprocessing, train augmentations, eval augmentations, etc.\n",
    "# 5. Add geosampler for large georegistered scenes (Geo-Tiling for Semantic Segmentation)\n",
    "\n",
    "# Analysis\n",
    "# 1. Add ~efficient (numba/cupy/mojo) functions to compute image dataset statistics.\n",
    "# -> pixel values (bucket sort?), \n",
    "\n",
    "# Tests\n",
    "# 1. Refactor dataset and datamodule tests. Add to test_dataset/datamodule.py to run with pytest. \n",
    "# 2. Test for expected output shapes for each sample and batch size after transformations, print any errors/inconsistencies  \n",
    "# 3. Test against overlapping samples inter and intra split"
   ]
  },
  {
   "cell_type": "code",
   "execution_count": 1,
   "metadata": {},
   "outputs": [],
   "source": [
    "%load_ext autoreload\n",
    "%load_ext memory_profiler \n",
    "%load_ext dotenv\n",
    "%autoreload 2\n",
    "%dotenv"
   ]
  },
  {
   "cell_type": "code",
   "execution_count": 2,
   "metadata": {},
   "outputs": [],
   "source": [
    "import yaml\n",
    "import logging\n",
    "from lightning import Trainer\n",
    "from geovision.config import ExperimentConfig\n",
    "from geovision.data.module import ImageDatasetDataModule\n",
    "from geovision.models.module import ClassificationModule\n",
    "\n",
    "from geovision.io.local import get_new_dir, get_ckpt_path\n",
    "from geovision.loggers.experiment_loggers import (\n",
    "    get_csv_logger, \n",
    "    get_ckpt_logger,\n",
    "    get_classification_logger\n",
    ")"
   ]
  },
  {
   "cell_type": "code",
   "execution_count": 3,
   "metadata": {},
   "outputs": [],
   "source": [
    "with open(\"config.yaml\") as f:\n",
    "    config_dict = yaml.load(f, Loader=yaml.Loader)\n",
    "    config_dict[\"dataset_params\"][\"random_seed\"] = config_dict[\"random_seed\"]\n",
    "exec(config_dict[\"transforms_script\"])\n",
    "config_dict[\"dataset_params\"][\"image_pre\"] = image_pre # type: ignore # noqa: F821\n",
    "config_dict[\"dataset_params\"][\"target_pre\"] = target_pre # type: ignore # noqa: F821\n",
    "config_dict[\"dataset_params\"][\"train_aug\"] = train_aug # type: ignore # noqa: F821\n",
    "config_dict[\"dataset_params\"][\"eval_aug\"] = eval_aug # type: ignore # noqa: F821\n",
    "config = ExperimentConfig.model_validate(config_dict)\n",
    "\n",
    "logger = logging.getLogger(__name__)\n",
    "logging.basicConfig(\n",
    "    filename = f\"{get_new_dir(\"logs\")/config.name}.log\",\n",
    "    filemode = \"a\",\n",
    "    format = \"%(asctime)s : %(name)s : %(levelname)s : %(message)s\",\n",
    "    level = logging.INFO\n",
    ")\n",
    "datamodule = ImageDatasetDataModule(config)\n",
    "\n",
    "loggers: list = list()\n",
    "loggers.append(csv_logger := get_csv_logger(config))\n",
    "\n",
    "callbacks: list = list()\n",
    "callbacks.append(ckpt_logger := get_ckpt_logger(config))\n",
    "callbacks.append(metrics_logger := get_classification_logger(config))"
   ]
  },
  {
   "cell_type": "code",
   "execution_count": null,
   "metadata": {},
   "outputs": [],
   "source": [
    "config = ExperimentConfig.from_config(\"config.yaml\")\n",
    "trainer = Trainer(logger = loggers, callbacks = callbacks, **config.trainer_params)\n",
    "trainer.fit(ClassificationModule(config), datamodule = datamodule, ckpt_path = get_ckpt_path(config))"
   ]
  }
 ],
 "metadata": {
  "kernelspec": {
   "display_name": "dev",
   "language": "python",
   "name": "python3"
  },
  "language_info": {
   "codemirror_mode": {
    "name": "ipython",
    "version": 3
   },
   "file_extension": ".py",
   "mimetype": "text/x-python",
   "name": "python",
   "nbconvert_exporter": "python",
   "pygments_lexer": "ipython3",
   "version": "3.12.2"
  }
 },
 "nbformat": 4,
 "nbformat_minor": 2
}
