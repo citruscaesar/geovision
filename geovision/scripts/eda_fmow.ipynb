{
 "cells": [
  {
   "cell_type": "code",
   "execution_count": null,
   "metadata": {},
   "outputs": [],
   "source": [
    "%load_ext autoreload\n",
    "%autoreload 2"
   ]
  },
  {
   "cell_type": "code",
   "execution_count": null,
   "metadata": {},
   "outputs": [],
   "source": [
    "import shapely.geometry\n",
    "from numpy.typing import NDArray\n",
    "\n",
    "import h5py\n",
    "import folium\n",
    "import shapely\n",
    "import numpy as np\n",
    "import pandas as pd\n",
    "import geopandas as gpd\n",
    "import seaborn as sns\n",
    "import imageio.v3 as iio\n",
    "import matplotlib.pyplot as plt\n",
    "from tqdm import tqdm\n",
    "\n",
    "from pathlib import Path\n",
    "from geovision.data.fmow import FMoW"
   ]
  },
  {
   "cell_type": "code",
   "execution_count": null,
   "metadata": {},
   "outputs": [],
   "source": [
    "def load_image(df: pd.DataFrame, idx: int):\n",
    "    return iio.imread(FMoW.local_staging/\"rgb\"/df.iloc[idx][\"image_path\"])\n",
    "\n",
    "def plot_original_image_with_bboxes(df: pd.DataFrame, idx: int):\n",
    "    row = df.iloc[idx]\n",
    "    _, ax = plt.subplots(1,1, figsize = (10, 10))\n",
    "    ax.imshow(load_image(df, idx))\n",
    "    ax.add_patch(FMoW.get_rectangle_from_corners(\n",
    "        (row[\"bbox_tl_0\"], row[\"bbox_tl_1\"]), (row[\"bbox_br_0\"], row[\"bbox_br_1\"]), fill = False, linewidth = 3, color = \"red\")\n",
    "    )\n",
    "    ax.add_patch(FMoW.get_rectangle_from_corners(\n",
    "        (row[\"outer_bbox_tl_0\"], row[\"outer_bbox_tl_1\"]), (row[\"outer_bbox_br_0\"], row[\"outer_bbox_br_1\"]), fill = False, linewidth = 3, color = \"blue\")\n",
    "    )\n",
    "    \n",
    "def crop_and_plot_image_with_bboxes(df: pd.DataFrame, idx: int):\n",
    "    row = df.iloc[idx]\n",
    "    image = load_image(df, idx) \n",
    "    image = image[row[\"outer_bbox_tl_0\"]:row[\"outer_bbox_br_0\"], row[\"outer_bbox_tl_1\"]:row[\"outer_bbox_br_1\"], :]\n",
    "\n",
    "    _, ax = plt.subplots(1,1, figsize = (5,5))\n",
    "    ax.imshow(image)\n",
    "    ax.add_patch(FMoW.get_rectangle_from_corners(\n",
    "        (row[\"inner_bbox_tl_0\"], row[\"inner_bbox_tl_1\"]), (row[\"inner_bbox_br_0\"], row[\"inner_bbox_br_1\"]), fill = False, linewidth = 3, color = \"red\")\n",
    "    )\n",
    "\n",
    "def plot_original_image_on_map(row: pd.Series):\n",
    "    pass\n",
    "\n",
    "def targer_bbox_to_geometry(row: pd.Series) -> shapely.geometry.Polygon:\n",
    "    pass\n",
    "\n",
    "def geometry_to_outer_bbox(row: pd.Series) -> tuple[int, int, int, int]:\n",
    "    pass\n",
    "\n",
    "def calculate_outer_bbox_from_geometry(row: pd.Series) -> tuple[int, int, int, int]:\n",
    "    # long, lat <==> width, height\n",
    "    pixel_dims = row[\"mean_pixel_width\"], row[\"mean_pixel_height\"]\n",
    "    outer_tl = np.array(row[\"geometry\"].exterior.coords[0])\n",
    "    inner_tl, _, inner_br, _ = [np.array(point) for point in row[\"intersect\"].exterior.coords[:4]]\n",
    "\n",
    "    tl = np.floor((inner_tl - outer_tl) * pixel_dims).astype(np.uint32)\n",
    "    br = np.ceil((inner_br - outer_tl) * pixel_dims).astype(np.uint32)\n",
    "\n",
    "    return tl[1], tl[0], br[1], br[0]\n",
    "\n",
    "def bbox_to_geometry(geometry, height, width, tl_0, tl_1, br_0, br_1, step_0, step_1) -> shapely.geometry.Polygon:\n",
    "    # geometry conventions are long, lat because of epsg:4326, opposite of bbox row, column\n",
    "    tl, tr, br, bl = [np.array(point) for point in geometry.exterior.coords[:4]]\n",
    "\n",
    "    def shift_right(point: NDArray, by: int):\n",
    "        point[0] += by*step_1\n",
    "        return point\n",
    "\n",
    "    def shift_down(point: NDArray, by: int):\n",
    "        point[1] += by*step_0\n",
    "        return point \n",
    "\n",
    "    tl = shift_down(tl, tl_0)\n",
    "    tl = shift_right(tl, tl_1)\n",
    "\n",
    "    tr = shift_down(tr, tl_0)\n",
    "    tr = shift_right(tr, br_1 - width)\n",
    "\n",
    "    br = shift_down(br, br_0 - height)\n",
    "    br = shift_right(br, br_1 - width)\n",
    "\n",
    "    bl = shift_down(bl, br_0 - height)\n",
    "    bl = shift_right(bl, tl_1)\n",
    "\n",
    "    return shapely.Polygon([tl, tr, br, bl, tl])"
   ]
  },
  {
   "cell_type": "code",
   "execution_count": null,
   "metadata": {},
   "outputs": [],
   "source": [
    "df = FMoW.get_multiclass_classification_df_from_metadata()\n",
    "df = df[df.country_code == \"IND\"].reset_index()"
   ]
  },
  {
   "cell_type": "code",
   "execution_count": null,
   "metadata": {},
   "outputs": [],
   "source": [
    "plot_original_image_with_bboxes(df, 0)"
   ]
  },
  {
   "cell_type": "code",
   "execution_count": null,
   "metadata": {},
   "outputs": [],
   "source": [
    "r = df.iloc[10]\n",
    "print(r.utm)\n",
    "r.geometry.project(r.utm)"
   ]
  },
  {
   "cell_type": "code",
   "execution_count": null,
   "metadata": {},
   "outputs": [],
   "source": [
    "row = df.iloc[0]\n",
    "print(row.mean_pixel_height, row.mean_pixel_width)\n",
    "tl_0, tl_1, br_0, br_1 = row.geometry.bounds\n",
    "\n",
    "bbox_tl_0, bbox_tl_1, bbox_br_0, bbox_br_1 = bbox_to_geometry(\n",
    "    row.geometry, row.img_height, row.img_width, \n",
    "    row.bbox_tl_0, row.bbox_tl_1, row.bbox_br_0, row.bbox_br_1, \n",
    "    row.mean_pixel_height, row.mean_pixel_width\n",
    ").bounds\n",
    "\n",
    "outer_bbox_tl_0, outer_bbox_tl_1, outer_bbox_br_0, outer_bbox_br_1 = bbox_to_geometry(\n",
    "    row.geometry, row.img_height, row.img_width, \n",
    "    row.outer_bbox_tl_0, row.outer_bbox_tl_1, row.outer_bbox_br_0, row.outer_bbox_br_1, \n",
    "    row.mean_pixel_height, row.mean_pixel_width\n",
    ").bounds\n",
    "\n",
    "print(row.label_str, row.country_code, row.geometry.centroid.coords[0])\n",
    "\n",
    "map = folium.Map(location = tuple(reversed(row.geometry.centroid.coords[0])))\n",
    "folium.TileLayer(tiles = 'https://server.arcgisonline.com/ArcGIS/rest/services/World_Imagery/MapServer/tile/{z}/{y}/{x}', attr = 'Esri', name = 'Esri Satellite', overlay = False, control = True).add_to(map)\n",
    "\n",
    "map.add_child(folium.Rectangle(bounds = ((tl_1, tl_0), (br_1, br_0))))\n",
    "map.add_child(folium.Rectangle(bounds = ((bbox_tl_1, bbox_tl_0), (bbox_br_1, bbox_br_0)), color = \"red\"))\n",
    "map.add_child(folium.Rectangle(bounds = ((outer_bbox_tl_1, outer_bbox_tl_0), (outer_bbox_br_1, outer_bbox_br_0))))"
   ]
  },
  {
   "cell_type": "code",
   "execution_count": null,
   "metadata": {},
   "outputs": [],
   "source": [
    "idx = 350840 \n",
    "wkt_str = str(df.iloc[idx][\"raw_location\"]).removeprefix(\"POLYGON ((\").removesuffix(\"))\")\n",
    "polygon = shapely.from_wkt(df.iloc[idx][\"raw_location\"])"
   ]
  },
  {
   "cell_type": "code",
   "execution_count": null,
   "metadata": {},
   "outputs": [],
   "source": [
    "plt"
   ]
  },
  {
   "cell_type": "code",
   "execution_count": null,
   "metadata": {},
   "outputs": [],
   "source": [
    "# Image Height vs Width\n",
    "# Insight: very few images are larger than 2000x2000px \n",
    "sns.jointplot(df, x = \"width\", y = \"height\")\n",
    "print(df.apply(lambda x: True if x[\"width\"] > 2000 or x[\"height\"] > 2000 else False, axis = 1).sum(), \"images have a dimention larger than 2000x2000px\")"
   ]
  },
  {
   "cell_type": "code",
   "execution_count": null,
   "metadata": {},
   "outputs": [],
   "source": [
    "# Classwise Distribution of Heights and Widths\n",
    "# Insight: airport, amusement_park, impoverished_settlement, nuclear_powerplant, port, runway, shipyard and space facility are\n",
    "# the ones with images > 2000px mostly, with a few outliers from each class\n",
    "fig, axes = plt.subplots(1, 2, figsize = (20, 15))\n",
    "sns.boxplot(df, y = \"label_str\", x = \"height\", ax = axes[0])\n",
    "sns.boxplot(df, y = \"label_str\", x = \"width\", ax = axes[1])"
   ]
  },
  {
   "cell_type": "code",
   "execution_count": null,
   "metadata": {},
   "outputs": [],
   "source": [
    "sns.jointplot(df, x = \"bbox_width\", y = \"bbox_height\")\n",
    "print(df.apply(lambda x: True if x[\"width\"] > 2000 or x[\"height\"] > 2000 else False, axis = 1).sum(), \"bboxes > 2000x2000px\")"
   ]
  },
  {
   "cell_type": "code",
   "execution_count": null,
   "metadata": {},
   "outputs": [],
   "source": [
    "df[\"bbox_height\"] = df.apply(lambda x: x[\"bbox_br_0\"] - x[\"bbox_tl_0\"], axis = 1) \n",
    "df[\"bbox_width\"] = df.apply(lambda x: x[\"bbox_br_1\"] - x[\"bbox_tl_1\"], axis = 1) "
   ]
  },
  {
   "cell_type": "code",
   "execution_count": null,
   "metadata": {},
   "outputs": [],
   "source": [
    "fig, axes = plt.subplots(1, 2, figsize = (20, 15))\n",
    "sns.boxplot(df, y = \"label_str\", x = \"bbox_height\", ax = axes[0])\n",
    "sns.boxplot(df, y = \"label_str\", x = \"bbox_width\", ax = axes[1])"
   ]
  },
  {
   "cell_type": "code",
   "execution_count": null,
   "metadata": {},
   "outputs": [],
   "source": [
    "# Classwise distribution of images and pixels enclosed by bboxes\n",
    "fig, axes = plt.subplots(1,2, figsize = (20, 15))\n",
    "df[\"num_bbox_pixels\"] = df.apply(lambda x: x[\"bbox_height\"]*x[\"bbox_width\"], axis = 1)\n",
    "sns.barplot(df.groupby(\"label_str\").count().reset_index(drop = False), y = \"label_str\", x = \"image_path\", ax = axes[0])\n",
    "sns.barplot(df[[\"label_str\", \"num_bbox_pixels\"]].groupby(\"label_str\").sum().reset_index(drop = False), y = \"label_str\", x = \"num_bbox_pixels\", ax = axes[1])"
   ]
  }
 ],
 "metadata": {
  "kernelspec": {
   "display_name": "dev",
   "language": "python",
   "name": "python3"
  },
  "language_info": {
   "codemirror_mode": {
    "name": "ipython",
    "version": 3
   },
   "file_extension": ".py",
   "mimetype": "text/x-python",
   "name": "python",
   "nbconvert_exporter": "python",
   "pygments_lexer": "ipython3",
   "version": "3.12.2"
  }
 },
 "nbformat": 4,
 "nbformat_minor": 2
}
