{
 "cells": [
  {
   "cell_type": "code",
   "execution_count": 1,
   "id": "303eacff",
   "metadata": {},
   "outputs": [],
   "source": [
    "%load_ext autoreload\n",
    "%autoreload 2"
   ]
  },
  {
   "cell_type": "code",
   "execution_count": 2,
   "id": "6cad1e8b",
   "metadata": {},
   "outputs": [],
   "source": [
    "import pandas as pd\n",
    "import rasterio as rio\n",
    "from geovision.data.hyspecnet11k import HySpecNet11k\n",
    "from geovision.data.spectral_earth import SpectralEarth \n",
    "from pathlib import Path"
   ]
  },
  {
   "cell_type": "code",
   "execution_count": 3,
   "id": "7e3cc8af",
   "metadata": {},
   "outputs": [
    {
     "name": "stderr",
     "output_type": "stream",
     "text": [
      "encoding nlcd: 100%|██████████| 1000/1000 [04:49<00:00,  3.45it/s]]\n",
      "encoding cdl: 100%|██████████| 1000/1000 [04:50<00:00,  3.44it/s]s]\n",
      "encoding corine: 100%|██████████| 1000/1000 [04:50<00:00,  3.44it/s]\n"
     ]
    }
   ],
   "source": [
    "SpectralEarth.transform('hdf5', \"sup\")"
   ]
  },
  {
   "cell_type": "code",
   "execution_count": null,
   "id": "2c62de3e",
   "metadata": {},
   "outputs": [],
   "source": [
    "df = SpectralEarth.load('index', 'imagefolder', 'cdl')\n",
    "df"
   ]
  }
 ],
 "metadata": {
  "kernelspec": {
   "display_name": "dev",
   "language": "python",
   "name": "python3"
  },
  "language_info": {
   "codemirror_mode": {
    "name": "ipython",
    "version": 3
   },
   "file_extension": ".py",
   "mimetype": "text/x-python",
   "name": "python",
   "nbconvert_exporter": "python",
   "pygments_lexer": "ipython3",
   "version": "3.12.2"
  }
 },
 "nbformat": 4,
 "nbformat_minor": 5
}
